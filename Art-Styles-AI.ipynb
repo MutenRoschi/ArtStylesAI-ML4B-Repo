{
 "cells": [
  {
   "cell_type": "code",
   "execution_count": null,
   "id": "af8b9f65-c389-43e8-9d0e-9a897184ec71",
   "metadata": {},
   "outputs": [],
   "source": [
    "# wichtigen Bibliotheken\n",
    "import os\n",
    "import pandas as pd\n",
    "import numpy as np\n",
    "from PIL import Image\n",
    "from tqdm import tqdm\n",
    "import matplotlib.pyplot as plt\n",
    "import seaborn as sns\n",
    "\n",
    "#Dataset laden usw.\n",
    "DATASET_DIR = r\"D:\\Users\\roscha\\Desktop\\ML4B\\complete\"\n",
    "df_artwork = pd.read_csv(f\"{DATASET_DIR}/artwork_dataset.csv\")\n",
    "df_info = pd.read_csv(f\"{DATASET_DIR}/info_dataset.csv\")\n",
    "\n",
    "# Prüfen wir ein paar Infos zum DataFrame\n",
    "print(\"Anzahl Zeilen:\", len(df_artwork))\n",
    "print(\"Spalten:\", df_artwork.columns.tolist())\n",
    "\n",
    "# Vorschau auf die Daten\n",
    "print(\"Spalten im Datensatz:\")\n",
    "print(df_artwork.columns.tolist())\n",
    "df_artwork.head()\n",
    "print(\"Spalten im info-Datensatz:\")\n",
    "print(df_info.columns.tolist())\n",
    "df_info.head()"
   ]
  },
  {
   "cell_type": "code",
   "execution_count": null,
   "id": "cc0afb36-2132-4650-adf7-51e44638082e",
   "metadata": {},
   "outputs": [
    {
     "name": "stdout",
     "output_type": "stream",
     "text": [
      "🧾 Spalten im zusammengeführten DataFrame:\n",
      "['ID', 'artist', 'title', 'picture data', 'file info', 'jpg url', 'born-died', 'period', 'school', 'url', 'base', 'nationality']\n"
     ]
    },
    {
     "data": {
      "text/html": [
       "<div>\n",
       "<style scoped>\n",
       "    .dataframe tbody tr th:only-of-type {\n",
       "        vertical-align: middle;\n",
       "    }\n",
       "\n",
       "    .dataframe tbody tr th {\n",
       "        vertical-align: top;\n",
       "    }\n",
       "\n",
       "    .dataframe thead th {\n",
       "        text-align: right;\n",
       "    }\n",
       "</style>\n",
       "<table border=\"1\" class=\"dataframe\">\n",
       "  <thead>\n",
       "    <tr style=\"text-align: right;\">\n",
       "      <th></th>\n",
       "      <th>ID</th>\n",
       "      <th>artist</th>\n",
       "      <th>title</th>\n",
       "      <th>picture data</th>\n",
       "      <th>file info</th>\n",
       "      <th>jpg url</th>\n",
       "      <th>born-died</th>\n",
       "      <th>period</th>\n",
       "      <th>school</th>\n",
       "      <th>url</th>\n",
       "      <th>base</th>\n",
       "      <th>nationality</th>\n",
       "    </tr>\n",
       "  </thead>\n",
       "  <tbody>\n",
       "    <tr>\n",
       "      <th>0</th>\n",
       "      <td>0</td>\n",
       "      <td>AACHEN, Hans von</td>\n",
       "      <td>venus and adonis</td>\n",
       "      <td>1574-88, oil on canvas, 68 x 95 cm, fogg art m...</td>\n",
       "      <td>1700*1211, true color, 252 kb</td>\n",
       "      <td>https://www.wga.hu/art/a/aachen/adonis.jpg</td>\n",
       "      <td>(1552-1615)</td>\n",
       "      <td>Mannerism</td>\n",
       "      <td>painter</td>\n",
       "      <td>https://www.wga.hu/html/a/aachen/index.html</td>\n",
       "      <td>Germany</td>\n",
       "      <td>German</td>\n",
       "    </tr>\n",
       "    <tr>\n",
       "      <th>1</th>\n",
       "      <td>1</td>\n",
       "      <td>AACHEN, Hans von</td>\n",
       "      <td>procuring scene</td>\n",
       "      <td>1605-10, oil on wood, 114 x 130 cm, kunsthisto...</td>\n",
       "      <td>1370*1168, true color, 212 kb</td>\n",
       "      <td>https://www.wga.hu/art/a/aachen/z_scene.jpg</td>\n",
       "      <td>(1552-1615)</td>\n",
       "      <td>Mannerism</td>\n",
       "      <td>painter</td>\n",
       "      <td>https://www.wga.hu/html/a/aachen/index.html</td>\n",
       "      <td>Germany</td>\n",
       "      <td>German</td>\n",
       "    </tr>\n",
       "    <tr>\n",
       "      <th>2</th>\n",
       "      <td>2</td>\n",
       "      <td>AACHEN, Hans von</td>\n",
       "      <td>self-portrait with a glass of wine</td>\n",
       "      <td>c. 1596, oil on canvas, 53 x 44 cm, private co...</td>\n",
       "      <td>896*1074, true color, 57 kb</td>\n",
       "      <td>https://www.wga.hu/art/a/aachen/selfport.jpg</td>\n",
       "      <td>(1552-1615)</td>\n",
       "      <td>Mannerism</td>\n",
       "      <td>painter</td>\n",
       "      <td>https://www.wga.hu/html/a/aachen/index.html</td>\n",
       "      <td>Germany</td>\n",
       "      <td>German</td>\n",
       "    </tr>\n",
       "    <tr>\n",
       "      <th>3</th>\n",
       "      <td>3</td>\n",
       "      <td>AACHEN, Hans von</td>\n",
       "      <td>two laughing men (self-portrait)</td>\n",
       "      <td>before 1574, oil on panel, 48 x 39 cm, archdio...</td>\n",
       "      <td>1173*1500, true color, 210 kb</td>\n",
       "      <td>https://www.wga.hu/art/a/aachen/selfpor1.jpg</td>\n",
       "      <td>(1552-1615)</td>\n",
       "      <td>Mannerism</td>\n",
       "      <td>painter</td>\n",
       "      <td>https://www.wga.hu/html/a/aachen/index.html</td>\n",
       "      <td>Germany</td>\n",
       "      <td>German</td>\n",
       "    </tr>\n",
       "    <tr>\n",
       "      <th>4</th>\n",
       "      <td>4</td>\n",
       "      <td>AACHEN, Hans von</td>\n",
       "      <td>portrait of emperor rudolf ii</td>\n",
       "      <td>1606-08, oil on canvas, 60 x 48 cm, kunsthisto...</td>\n",
       "      <td>1149*1500, true color, 247 kb</td>\n",
       "      <td>https://www.wga.hu/art/a/aachen/rudolf2.jpg</td>\n",
       "      <td>(1552-1615)</td>\n",
       "      <td>Mannerism</td>\n",
       "      <td>painter</td>\n",
       "      <td>https://www.wga.hu/html/a/aachen/index.html</td>\n",
       "      <td>Germany</td>\n",
       "      <td>German</td>\n",
       "    </tr>\n",
       "  </tbody>\n",
       "</table>\n",
       "</div>"
      ],
      "text/plain": [
       "   ID            artist                               title  \\\n",
       "0   0  AACHEN, Hans von                    venus and adonis   \n",
       "1   1  AACHEN, Hans von                     procuring scene   \n",
       "2   2  AACHEN, Hans von  self-portrait with a glass of wine   \n",
       "3   3  AACHEN, Hans von    two laughing men (self-portrait)   \n",
       "4   4  AACHEN, Hans von       portrait of emperor rudolf ii   \n",
       "\n",
       "                                        picture data  \\\n",
       "0  1574-88, oil on canvas, 68 x 95 cm, fogg art m...   \n",
       "1  1605-10, oil on wood, 114 x 130 cm, kunsthisto...   \n",
       "2  c. 1596, oil on canvas, 53 x 44 cm, private co...   \n",
       "3  before 1574, oil on panel, 48 x 39 cm, archdio...   \n",
       "4  1606-08, oil on canvas, 60 x 48 cm, kunsthisto...   \n",
       "\n",
       "                       file info  \\\n",
       "0  1700*1211, true color, 252 kb   \n",
       "1  1370*1168, true color, 212 kb   \n",
       "2    896*1074, true color, 57 kb   \n",
       "3  1173*1500, true color, 210 kb   \n",
       "4  1149*1500, true color, 247 kb   \n",
       "\n",
       "                                        jpg url    born-died     period  \\\n",
       "0    https://www.wga.hu/art/a/aachen/adonis.jpg  (1552-1615)  Mannerism   \n",
       "1   https://www.wga.hu/art/a/aachen/z_scene.jpg  (1552-1615)  Mannerism   \n",
       "2  https://www.wga.hu/art/a/aachen/selfport.jpg  (1552-1615)  Mannerism   \n",
       "3  https://www.wga.hu/art/a/aachen/selfpor1.jpg  (1552-1615)  Mannerism   \n",
       "4   https://www.wga.hu/art/a/aachen/rudolf2.jpg  (1552-1615)  Mannerism   \n",
       "\n",
       "    school                                          url     base nationality  \n",
       "0  painter  https://www.wga.hu/html/a/aachen/index.html  Germany      German  \n",
       "1  painter  https://www.wga.hu/html/a/aachen/index.html  Germany      German  \n",
       "2  painter  https://www.wga.hu/html/a/aachen/index.html  Germany      German  \n",
       "3  painter  https://www.wga.hu/html/a/aachen/index.html  Germany      German  \n",
       "4  painter  https://www.wga.hu/html/a/aachen/index.html  Germany      German  "
      ]
     },
     "execution_count": 7,
     "metadata": {},
     "output_type": "execute_result"
    }
   ],
   "source": [
    "# Mergen der beiden DataFrames über 'artist' UND 'title'\n",
    "df_merged = pd.merge(\n",
    "    df_artwork,\n",
    "    df_info,\n",
    "    on=['artist'],\n",
    "    how='inner'\n",
    ")\n",
    "\n",
    "# Ergebnis prüfen\n",
    "print(\" Spalten im zusammengeführten DataFrame:\")\n",
    "print(df_merged.columns.tolist())\n",
    "df_merged.head()"
   ]
  },
  {
   "cell_type": "code",
   "execution_count": null,
   "id": "5c2fd7cb-be5e-40f9-9306-996127efc20b",
   "metadata": {},
   "outputs": [
    {
     "name": "stdout",
     "output_type": "stream",
     "text": [
      "period\n",
      "Baroque                 14203\n",
      "Early Renaissance        6011\n",
      "Mannerism                4032\n",
      "Northern Renaissance     3862\n",
      "Medieval                 3490\n",
      "High Renaissance         3298\n",
      "Rococo                   2510\n",
      "Impressionism            2404\n",
      "Romanticism              1975\n",
      "Neoclassicism            1527\n",
      "Realism                  1222\n",
      "Art Nouveau              1066\n",
      "Name: count, dtype: int64\n"
     ]
    }
   ],
   "source": [
    "# Nur relevante Spalten auswählen\n",
    "df_clean = df_merged[['jpg url', 'period']].dropna()\n",
    "\n",
    "# Übersicht: Welche Stilrichtungen ('period') gibt es?\n",
    "print(df_clean['period'].value_counts())"
   ]
  },
  {
   "cell_type": "code",
   "execution_count": null,
   "id": "13dde522-6900-4aad-8db2-8b4892d54257",
   "metadata": {},
   "outputs": [
    {
     "name": "stderr",
     "output_type": "stream",
     "text": [
      "C:\\Users\\rosch\\AppData\\Local\\Temp\\ipykernel_568\\3756820200.py:6: DeprecationWarning: DataFrameGroupBy.apply operated on the grouping columns. This behavior is deprecated, and in a future version of pandas the grouping columns will be excluded from the operation. Either pass `include_groups=False` to exclude the groupings or explicitly select the grouping columns after groupby to silence this warning.\n",
      "  df_prepared = df_filtered.groupby('period').apply(\n"
     ]
    }
   ],
   "source": [
    "selected_styles = ['Baroque', 'Impressionism', 'Realism'] \n",
    "max_images_per_style = 500\n",
    "\n",
    "# Auswahl + Limit\n",
    "df_filtered = df_clean[df_clean['period'].isin(selected_styles)]\n",
    "df_prepared = df_filtered.groupby('period').apply(\n",
    "    lambda x: x.sample(n=min(len(x), max_images_per_style), random_state=42)\n",
    ").reset_index(drop=True)\n"
   ]
  },
  {
   "cell_type": "code",
   "execution_count": null,
   "id": "89b2ace2-5e18-4f7b-9a57-c7bfb5c906e2",
   "metadata": {},
   "outputs": [
    {
     "name": "stderr",
     "output_type": "stream",
     "text": [
      "📥 Lade Bilder herunter: 100%|█████████████████████████████████████████████████████| 1500/1500 [05:47<00:00,  4.32it/s]\n"
     ]
    }
   ],
   "source": [
    "#Download der Bilder\n",
    "\n",
    "import requests\n",
    "import os\n",
    "from tqdm import tqdm\n",
    "\n",
    "OUTPUT_DIR = \"data_prepared\"\n",
    "os.makedirs(OUTPUT_DIR, exist_ok=True)\n",
    "\n",
    "for idx, row in tqdm(df_prepared.iterrows(), total=len(df_prepared), desc=\"Lade Bilder herunter\"):\n",
    "    url = row['jpg url']\n",
    "    style = row['period']\n",
    "    filename = f\"{style}_{idx}.jpg\"\n",
    "\n",
    "    style_folder = os.path.join(OUTPUT_DIR, style)\n",
    "    os.makedirs(style_folder, exist_ok=True)\n",
    "    filepath = os.path.join(style_folder, filename)\n",
    "\n",
    "    try:\n",
    "        response = requests.get(url, timeout=10)\n",
    "        response.raise_for_status()\n",
    "\n",
    "        with open(filepath, 'wb') as f:\n",
    "            f.write(response.content)\n",
    "    except Exception as e:\n",
    "        print(f\" Fehler bei Bild {url}: {e}\")\n"
   ]
  },
  {
   "cell_type": "code",
   "execution_count": 1,
   "id": "d5e00b3f-5de3-442b-8d8a-001f05049056",
   "metadata": {},
   "outputs": [
    {
     "name": "stdout",
     "output_type": "stream",
     "text": [
      "(813, 1035)\n"
     ]
    }
   ],
   "source": [
    "# Prepariere die Bilder: Alle Bilder sollten z. B. 256×256 oder 512×512 sein (je nach Modellanforderung)\n",
    "\n",
    "from PIL import Image\n",
    "import os\n",
    "\n",
    "# Teste ein paar Bilder\n",
    "folder = \"data_prepared/Baroque\"\n",
    "files = os.listdir(folder)\n",
    "img = Image.open(os.path.join(folder, files[0]))\n",
    "print(img.size)"
   ]
  },
  {
   "cell_type": "code",
   "execution_count": null,
   "id": "e0518d1a-fa50-4109-aca9-04d96e4a123a",
   "metadata": {},
   "outputs": [
    {
     "name": "stdout",
     "output_type": "stream",
     "text": [
      "✅ Alle Bilder auf 256×256 skaliert.\n"
     ]
    }
   ],
   "source": [
    "#Bilder einheitlich anpassen\n",
    "from PIL import Image\n",
    "import os\n",
    "\n",
    "def resize_all_images(root_folder, target_size=(256, 256)):\n",
    "    for style in os.listdir(root_folder):\n",
    "        style_path = os.path.join(root_folder, style)\n",
    "        if not os.path.isdir(style_path):\n",
    "            continue\n",
    "        for file in os.listdir(style_path):\n",
    "            file_path = os.path.join(style_path, file)\n",
    "            try:\n",
    "                img = Image.open(file_path).convert(\"RGB\").resize(target_size)\n",
    "                img.save(file_path)\n",
    "            except Exception as e:\n",
    "                print(f\" Fehler bei {file_path}: {e}\")\n",
    "\n",
    "resize_all_images(\"data_prepared\", target_size=(256, 256))\n",
    "print(\" Alle Bilder auf 256×256 skaliert.\")\n"
   ]
  },
  {
   "cell_type": "code",
   "execution_count": null,
   "id": "7efdcce1-d0ff-4a63-860e-b04b51c8176a",
   "metadata": {},
   "outputs": [
    {
     "data": {
      "text/plain": [
       "'data/trainB'"
      ]
     },
     "execution_count": 3,
     "metadata": {},
     "output_type": "execute_result"
    }
   ],
   "source": [
    "# Teilt die zwei Stilrichtungen in Trainingsdatensätze um A = Barock und B = Realismus\n",
    "\n",
    "import shutil, os\n",
    "\n",
    "os.makedirs(\"data/trainA\", exist_ok=True)\n",
    "os.makedirs(\"data/trainB\", exist_ok=True)\n",
    "\n",
    "shutil.copytree(\"data_prepared/Baroque\", \"data/trainA\", dirs_exist_ok=True)\n",
    "shutil.copytree(\"data_prepared/Realism\", \"data/trainB\", dirs_exist_ok=True)\n"
   ]
  },
  {
   "cell_type": "code",
   "execution_count": 1,
   "id": "1200e342-e701-415b-95cc-26e2c301043b",
   "metadata": {},
   "outputs": [
    {
     "name": "stdout",
     "output_type": "stream",
     "text": [
      "Pillow und PyTorch sind installiert: 2.5.1\n"
     ]
    }
   ],
   "source": [
    "from PIL import Image\n",
    "import torch\n",
    "print(\"Pillow und PyTorch sind installiert:\", torch.__version__)\n"
   ]
  }
 ],
 "metadata": {
  "kernelspec": {
   "display_name": "Python (ml4b_env)",
   "language": "python",
   "name": "ml4b_env"
  },
  "language_info": {
   "codemirror_mode": {
    "name": "ipython",
    "version": 3
   },
   "file_extension": ".py",
   "mimetype": "text/x-python",
   "name": "python",
   "nbconvert_exporter": "python",
   "pygments_lexer": "ipython3",
   "version": "3.12.9"
  }
 },
 "nbformat": 4,
 "nbformat_minor": 5
}
